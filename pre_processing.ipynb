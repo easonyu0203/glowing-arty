{
 "cells": [
  {
   "cell_type": "markdown",
   "source": [
    "# pre process dataset\n",
    "the data we get is in the form of video, we need to extract the frames from the video and save them as images.\n",
    "\n",
    "## Config\n",
    "Set the input video path and output image path, as well as the output image size."
   ],
   "metadata": {
    "collapsed": false
   }
  },
  {
   "cell_type": "code",
   "execution_count": 2,
   "outputs": [],
   "source": [
    "# Set the video directory and output directory\n",
    "video_dir = './raw_data'\n",
    "data_dir = './data'\n",
    "\n",
    "#the output image size\n",
    "output_size = (1024, 1024)"
   ],
   "metadata": {
    "collapsed": false
   }
  },
  {
   "cell_type": "markdown",
   "source": [
    "## peek at current raw data"
   ],
   "metadata": {
    "collapsed": false
   }
  },
  {
   "cell_type": "code",
   "execution_count": 3,
   "metadata": {
    "collapsed": true
   },
   "outputs": [
    {
     "name": "stdout",
     "output_type": "stream",
     "text": [
      "胖老虎.MOV: 1831 frames, 2160x3840 pixels\n",
      "熊貓.MOV: 1789 frames, 2160x3840 pixels\n",
      "銀色樹.MOV: 1576 frames, 2160x3840 pixels\n",
      "兩人玩具.MOV: 1648 frames, 2160x3840 pixels\n",
      "蒸汽鍋.MOV: 1647 frames, 2160x3840 pixels\n",
      "岩天聰書.MOV: 2024 frames, 2160x3840 pixels\n",
      "紅色捲尺.MOV: 1686 frames, 2160x3840 pixels\n",
      "蘋果.MOV: 1613 frames, 2160x3840 pixels\n",
      "橘子.MOV: 1659 frames, 2160x3840 pixels\n",
      "瘦老虎.MOV: 2015 frames, 2160x3840 pixels\n",
      "百事可樂.MOV: 1418 frames, 2160x3840 pixels\n",
      "成功者方程式書.MOV: 1790 frames, 2160x3840 pixels\n",
      "膠帶台.MOV: 1572 frames, 2160x3840 pixels\n"
     ]
    }
   ],
   "source": [
    "from pathlib import Path\n",
    "import cv2\n",
    "\n",
    "video_dir = Path('./raw_data')\n",
    "\n",
    "for video_path in video_dir.glob('*.MOV'):\n",
    "    cap = cv2.VideoCapture(str(video_path))\n",
    "\n",
    "    num_frames = int(cap.get(cv2.CAP_PROP_FRAME_COUNT))\n",
    "    width = int(cap.get(cv2.CAP_PROP_FRAME_WIDTH))\n",
    "    height = int(cap.get(cv2.CAP_PROP_FRAME_HEIGHT))\n",
    "\n",
    "    print(f'{video_path.name}: {num_frames} frames, {width}x{height} pixels')\n",
    "\n",
    "    cap.release()\n"
   ]
  },
  {
   "cell_type": "markdown",
   "source": [
    "## extract frames from video"
   ],
   "metadata": {
    "collapsed": false
   }
  },
  {
   "cell_type": "code",
   "execution_count": null,
   "outputs": [
    {
     "name": "stderr",
     "output_type": "stream",
     "text": [
      "Processing 胖老虎.MOV: 100%|██████████| 1831/1831 [01:07<00:00, 27.20it/s]\n",
      "Processing 熊貓.MOV: 100%|██████████| 1789/1789 [01:07<00:00, 26.42it/s]\n",
      "Processing 銀色樹.MOV:  53%|█████▎    | 829/1576 [00:30<00:27, 27.50it/s]"
     ]
    }
   ],
   "source": [
    "import cv2\n",
    "import os\n",
    "from pathlib import Path\n",
    "import imutils\n",
    "from tqdm import tqdm\n",
    "\n",
    "# Loop over each video file in the video directory\n",
    "for filename in os.listdir(video_dir):\n",
    "    if not filename.endswith('.MOV'):\n",
    "        continue\n",
    "\n",
    "    # Create a new directory for the output images\n",
    "    class_name = Path(filename).stem\n",
    "    class_dir = Path(data_dir) / class_name\n",
    "    class_dir.mkdir(parents=True, exist_ok=True)\n",
    "\n",
    "    # Open the video file using OpenCV\n",
    "    video_path = Path(video_dir) / filename\n",
    "    cap = cv2.VideoCapture(str(video_path))\n",
    "\n",
    "    # Calculate the total number of frames in the video and the frame interval\n",
    "    total_frames = int(cap.get(cv2.CAP_PROP_FRAME_COUNT))\n",
    "\n",
    "    # Loop over each frame in the video\n",
    "    with tqdm(total=total_frames, desc=f'Processing {filename}') as pbar:\n",
    "        output_num = 0\n",
    "        while cap.isOpened():\n",
    "            ret, frame = cap.read()\n",
    "            if not ret:\n",
    "                break\n",
    "\n",
    "            # Resize the frame to the desired output size while preserving its aspect ratio\n",
    "            frame = imutils.resize(frame, width=output_size[0], height=output_size[1])\n",
    "\n",
    "            # Save the frame as a JPEG image\n",
    "            output_path = os.path.join(class_dir, f'{output_num:06d}.jpg')\n",
    "            cv2.imwrite(output_path, frame)\n",
    "            output_num += 1\n",
    "            pbar.update(1)\n",
    "\n",
    "        # Release the video capture object\n",
    "        cap.release()\n"
   ],
   "metadata": {
    "collapsed": false,
    "pycharm": {
     "is_executing": true
    }
   }
  },
  {
   "cell_type": "markdown",
   "source": [
    "## Show the output images"
   ],
   "metadata": {
    "collapsed": false
   }
  },
  {
   "cell_type": "code",
   "execution_count": null,
   "outputs": [],
   "source": [
    "import os\n",
    "import random\n",
    "import matplotlib.pyplot as plt\n",
    "from PIL import Image\n",
    "\n",
    "# Set the number of images to sample per class\n",
    "num_samples = 3\n",
    "\n",
    "# Loop over each class directory in the data directory\n",
    "for class_dirname in os.listdir(data_dir):\n",
    "    class_dir = os.path.join(data_dir, class_dirname)\n",
    "\n",
    "    # Get a list of all the image files in the class directory\n",
    "    image_files = [f for f in os.listdir(class_dir) if f.endswith('.jpg')]\n",
    "\n",
    "    # Sample some images from the list\n",
    "    sample_files = random.sample(image_files, num_samples)\n",
    "\n",
    "    # Loop over each sample file and plot it\n",
    "    for i, sample_file in enumerate(sample_files):\n",
    "        sample_path = os.path.join(class_dir, sample_file)\n",
    "\n",
    "        # Load the image and plot it\n",
    "        image = Image.open(sample_path)\n",
    "        plt.subplot(len(sample_files), 1, i+1)\n",
    "        plt.imshow(image)\n",
    "        plt.axis('off')\n",
    "    plt.show()\n"
   ],
   "metadata": {
    "collapsed": false,
    "pycharm": {
     "is_executing": true
    }
   }
  }
 ],
 "metadata": {
  "kernelspec": {
   "display_name": "Python 3",
   "language": "python",
   "name": "python3"
  },
  "language_info": {
   "codemirror_mode": {
    "name": "ipython",
    "version": 2
   },
   "file_extension": ".py",
   "mimetype": "text/x-python",
   "name": "python",
   "nbconvert_exporter": "python",
   "pygments_lexer": "ipython2",
   "version": "2.7.6"
  }
 },
 "nbformat": 4,
 "nbformat_minor": 0
}
