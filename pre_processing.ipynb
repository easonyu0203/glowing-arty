{
 "cells": [
  {
   "cell_type": "markdown",
   "source": [
    "# pre process dataset\n",
    "the data we get is in the form of video, we need to extract the frames from the video and save them as images.\n",
    "\n",
    "## Config\n",
    "Set the input video path and output image path, as well as the output image size."
   ],
   "metadata": {
    "collapsed": false
   }
  },
  {
   "cell_type": "code",
   "execution_count": null,
   "outputs": [],
   "source": [
    "# Set the video directory and output directory\n",
    "video_dir = './raw_data'\n",
    "output_dir = './data'\n",
    "\n",
    "#the output image size\n",
    "output_size = (1024, 1024)"
   ],
   "metadata": {
    "collapsed": false
   }
  },
  {
   "cell_type": "markdown",
   "source": [
    "## peek at current raw data"
   ],
   "metadata": {
    "collapsed": false
   }
  },
  {
   "cell_type": "code",
   "execution_count": 14,
   "metadata": {
    "collapsed": true
   },
   "outputs": [
    {
     "name": "stdout",
     "output_type": "stream",
     "text": [
      "胖老虎.MOV: 1831 frames, 2160x3840 pixels\n",
      "熊貓.MOV: 1789 frames, 2160x3840 pixels\n",
      "銀色樹.MOV: 1576 frames, 2160x3840 pixels\n",
      "兩人玩具.MOV: 1648 frames, 2160x3840 pixels\n",
      "蒸汽鍋.MOV: 1647 frames, 2160x3840 pixels\n",
      "岩天聰書.MOV: 2024 frames, 2160x3840 pixels\n",
      "紅色捲尺.MOV: 1686 frames, 2160x3840 pixels\n",
      "蘋果.MOV: 1613 frames, 2160x3840 pixels\n",
      "橘子.MOV: 1659 frames, 2160x3840 pixels\n",
      "瘦老虎.MOV: 2015 frames, 2160x3840 pixels\n",
      "百事可樂.MOV: 1418 frames, 2160x3840 pixels\n",
      "成功者方程式書.MOV: 1790 frames, 2160x3840 pixels\n",
      "膠帶台.MOV: 1572 frames, 2160x3840 pixels\n"
     ]
    }
   ],
   "source": [
    "from pathlib import Path\n",
    "import cv2\n",
    "\n",
    "video_dir = Path('./raw_data')\n",
    "\n",
    "for video_path in video_dir.glob('*.MOV'):\n",
    "    cap = cv2.VideoCapture(str(video_path))\n",
    "\n",
    "    num_frames = int(cap.get(cv2.CAP_PROP_FRAME_COUNT))\n",
    "    width = int(cap.get(cv2.CAP_PROP_FRAME_WIDTH))\n",
    "    height = int(cap.get(cv2.CAP_PROP_FRAME_HEIGHT))\n",
    "\n",
    "    print(f'{video_path.name}: {num_frames} frames, {width}x{height} pixels')\n",
    "\n",
    "    cap.release()\n"
   ]
  },
  {
   "cell_type": "markdown",
   "source": [
    "## extract frames from video"
   ],
   "metadata": {
    "collapsed": false
   }
  },
  {
   "cell_type": "code",
   "execution_count": 17,
   "outputs": [
    {
     "name": "stderr",
     "output_type": "stream",
     "text": [
      "Processing 胖老虎.MOV: 100%|██████████| 1831/1831 [01:13<00:00, 24.90it/s]\n",
      "Processing 熊貓.MOV: 100%|██████████| 1789/1789 [01:11<00:00, 25.00it/s]\n",
      "Processing 銀色樹.MOV: 100%|██████████| 1576/1576 [01:04<00:00, 24.61it/s]\n",
      "Processing 兩人玩具.MOV: 100%|██████████| 1648/1648 [01:06<00:00, 24.85it/s]\n",
      "Processing 蒸汽鍋.MOV: 100%|██████████| 1647/1647 [01:05<00:00, 25.17it/s]\n",
      "Processing 岩天聰書.MOV: 100%|██████████| 2024/2024 [01:20<00:00, 25.22it/s]\n",
      "Processing 紅色捲尺.MOV: 100%|██████████| 1686/1686 [01:07<00:00, 25.04it/s]\n",
      "Processing 蘋果.MOV: 100%|██████████| 1613/1613 [01:05<00:00, 24.79it/s]\n",
      "Processing 橘子.MOV: 100%|██████████| 1659/1659 [01:06<00:00, 24.92it/s]\n",
      "Processing 瘦老虎.MOV: 100%|██████████| 2015/2015 [01:20<00:00, 25.03it/s]\n",
      "Processing 百事可樂.MOV: 100%|██████████| 1418/1418 [00:56<00:00, 25.17it/s]\n",
      "Processing 成功者方程式書.MOV: 100%|██████████| 1790/1790 [01:11<00:00, 25.13it/s]\n",
      "Processing 膠帶台.MOV: 100%|██████████| 1572/1572 [01:02<00:00, 25.14it/s]\n"
     ]
    }
   ],
   "source": [
    "import cv2\n",
    "import os\n",
    "from pathlib import Path\n",
    "import imutils\n",
    "from tqdm import tqdm\n",
    "\n",
    "# Loop over each video file in the video directory\n",
    "for filename in os.listdir(video_dir):\n",
    "    if not filename.endswith('.MOV'):\n",
    "        continue\n",
    "\n",
    "    # Create a new directory for the output images\n",
    "    class_name = Path(filename).stem\n",
    "    class_dir = Path(output_dir) / class_name\n",
    "    class_dir.mkdir(parents=True, exist_ok=True)\n",
    "\n",
    "    # Open the video file using OpenCV\n",
    "    video_path = Path(video_dir) / filename\n",
    "    cap = cv2.VideoCapture(str(video_path))\n",
    "\n",
    "    # Calculate the total number of frames in the video and the frame interval\n",
    "    total_frames = int(cap.get(cv2.CAP_PROP_FRAME_COUNT))\n",
    "\n",
    "    # Loop over each frame in the video\n",
    "    with tqdm(total=total_frames, desc=f'Processing {filename}') as pbar:\n",
    "        output_num = 0\n",
    "        while cap.isOpened():\n",
    "            ret, frame = cap.read()\n",
    "            if not ret:\n",
    "                break\n",
    "\n",
    "            # Resize the frame to the desired output size while preserving its aspect ratio\n",
    "            frame = imutils.resize(frame, width=output_size[0])\n",
    "            frame = imutils.resize(frame, height=output_size[1])\n",
    "\n",
    "            # Add padding to make the output image size consistent\n",
    "            height, width, _ = frame.shape\n",
    "            padding_height = max(0, output_size[1] - height)\n",
    "            padding_width = max(0, output_size[0] - width)\n",
    "            top_padding = padding_height // 2\n",
    "            bottom_padding = padding_height - top_padding\n",
    "            left_padding = padding_width // 2\n",
    "            right_padding = padding_width - left_padding\n",
    "            frame = cv2.copyMakeBorder(frame, top_padding, bottom_padding, left_padding, right_padding, cv2.BORDER_CONSTANT, value=[0, 0, 0])\n",
    "\n",
    "            # Save the frame as a JPEG image\n",
    "            output_path = os.path.join(class_dir, f'{output_num:06d}.jpg')\n",
    "            cv2.imwrite(output_path, frame)\n",
    "            output_num += 1\n",
    "            pbar.update(1)\n",
    "\n",
    "        # Release the video capture object\n",
    "        cap.release()\n"
   ],
   "metadata": {
    "collapsed": false
   }
  }
 ],
 "metadata": {
  "kernelspec": {
   "display_name": "Python 3",
   "language": "python",
   "name": "python3"
  },
  "language_info": {
   "codemirror_mode": {
    "name": "ipython",
    "version": 2
   },
   "file_extension": ".py",
   "mimetype": "text/x-python",
   "name": "python",
   "nbconvert_exporter": "python",
   "pygments_lexer": "ipython2",
   "version": "2.7.6"
  }
 },
 "nbformat": 4,
 "nbformat_minor": 0
}
