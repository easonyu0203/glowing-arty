{
 "cells": [
  {
   "cell_type": "markdown",
   "source": [
    "# Train\n",
    "training model"
   ],
   "metadata": {
    "collapsed": false
   }
  },
  {
   "cell_type": "code",
   "execution_count": 2,
   "metadata": {
    "collapsed": true
   },
   "outputs": [
    {
     "name": "stdout",
     "output_type": "stream",
     "text": [
      "mps is available device\n"
     ]
    },
    {
     "data": {
      "text/plain": "Hyperparameters(model='stn_mobilenet_small', val_ratio=0.2, data_ratio=1, batch_size=64, epochs=50, early_stop_patience=30, target_val_acc=100.0, opt_name='sgd', momentum=0.9, lr=0.0001, lr_scheduler_name='cosine', lr_warmup_epochs=10, lr_warmup_method='linear', lr_warmup_decay=0.01, weight_decay=2e-05, norm_weight_decay=0.0, label_smoothing=0.1, train_crop_size=176, val_crop_size=224)"
     },
     "execution_count": 2,
     "metadata": {},
     "output_type": "execute_result"
    }
   ],
   "source": [
    "from train import initialize_globals, Hyperparameters, pipline\n",
    "\n",
    "initialize_globals()\n",
    "hyperparameters = Hyperparameters(\n",
    "    epochs=50,\n",
    "    early_stop_patience=5,\n",
    "    lr_warmup_epochs=5,\n",
    "    lr=0.0001\n",
    ")\n",
    "\n",
    "hyperparameters"
   ]
  },
  {
   "cell_type": "code",
   "execution_count": null,
   "outputs": [],
   "source": [
    "pipline(hyperparameters)"
   ],
   "metadata": {
    "collapsed": false
   }
  }
 ],
 "metadata": {
  "kernelspec": {
   "display_name": "Python 3",
   "language": "python",
   "name": "python3"
  },
  "language_info": {
   "codemirror_mode": {
    "name": "ipython",
    "version": 2
   },
   "file_extension": ".py",
   "mimetype": "text/x-python",
   "name": "python",
   "nbconvert_exporter": "python",
   "pygments_lexer": "ipython2",
   "version": "2.7.6"
  }
 },
 "nbformat": 4,
 "nbformat_minor": 0
}
